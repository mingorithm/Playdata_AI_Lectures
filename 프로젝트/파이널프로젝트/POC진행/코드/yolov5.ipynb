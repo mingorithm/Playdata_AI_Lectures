{
 "cells": [
  {
   "cell_type": "code",
   "execution_count": 11,
   "metadata": {},
   "outputs": [
    {
     "name": "stdout",
     "output_type": "stream",
     "text": [
      "Requirement already satisfied: scikit-learn in /usr/local/anaconda3/envs/yolo/lib/python3.8/site-packages (1.3.2)\n",
      "Requirement already satisfied: numpy<2.0,>=1.17.3 in /usr/local/anaconda3/envs/yolo/lib/python3.8/site-packages (from scikit-learn) (1.24.4)\n",
      "Requirement already satisfied: scipy>=1.5.0 in /usr/local/anaconda3/envs/yolo/lib/python3.8/site-packages (from scikit-learn) (1.10.1)\n",
      "Requirement already satisfied: joblib>=1.1.1 in /usr/local/anaconda3/envs/yolo/lib/python3.8/site-packages (from scikit-learn) (1.3.2)\n",
      "Requirement already satisfied: threadpoolctl>=2.0.0 in /usr/local/anaconda3/envs/yolo/lib/python3.8/site-packages (from scikit-learn) (3.2.0)\n",
      "Note: you may need to restart the kernel to use updated packages.\n"
     ]
    }
   ],
   "source": [
    "pip install scikit-learn"
   ]
  },
  {
   "cell_type": "code",
   "execution_count": 14,
   "metadata": {},
   "outputs": [],
   "source": [
    "import torch\n",
    "import ultralytics\n",
    "import yaml\n",
    "from sklearn.model_selection import train_test_split"
   ]
  },
  {
   "cell_type": "code",
   "execution_count": null,
   "metadata": {},
   "outputs": [],
   "source": [
    "img_list = ('...')"
   ]
  },
  {
   "cell_type": "code",
   "execution_count": null,
   "metadata": {},
   "outputs": [],
   "source": [
    "train_img_list, val_img_list = train_test_split(img_lit, test_size=0.2, random_state=42)"
   ]
  },
  {
   "cell_type": "code",
   "execution_count": null,
   "metadata": {},
   "outputs": [],
   "source": [
    "with open('...', 'w') as f:\n",
    "    f.write('\\n'.join(train_img_list) + '\\n')\n",
    "with open('...', 'w') as f:\n",
    "    f.write('\\n'.join(val_img_list) + '\\n')"
   ]
  },
  {
   "cell_type": "code",
   "execution_count": null,
   "metadata": {},
   "outputs": [],
   "source": [
    "with open('...', 'r') as f:\n",
    "    data = yaml.load(f)\n",
    "data['train'] = '.../ train.txt'\n",
    "data['val'] = '.../ val.txt'\n",
    "\n",
    "with open('.../daya.yaml', 'w') as f:\n",
    "    yaml.dump(data, f)\n",
    "\n",
    "print(data)"
   ]
  },
  {
   "cell_type": "code",
   "execution_count": null,
   "metadata": {},
   "outputs": [],
   "source": [
    "# yolov5n\n",
    "!python treain.py --img 416 --batch 16 --epochs 50 --data /.../.../data.yaml --cfg ./models/yolov5n.yaml --weights yolov5n.pt"
   ]
  },
  {
   "cell_type": "code",
   "execution_count": null,
   "metadata": {},
   "outputs": [],
   "source": [
    "# yolov5s\n",
    "!python treain.py --img 416 --batch 16 --epochs 50 --data /.../.../data.yaml --cfg ./models/yolov5s.yaml --weights yolov5s.pt"
   ]
  },
  {
   "cell_type": "code",
   "execution_count": null,
   "metadata": {},
   "outputs": [],
   "source": [
    "# yolov5m\n",
    "!python treain.py --img 416 --batch 16 --epochs 50 --data /.../.../data.yaml --cfg ./models/yolov5m.yaml --weights yolov5m.pt"
   ]
  },
  {
   "cell_type": "code",
   "execution_count": null,
   "metadata": {},
   "outputs": [],
   "source": [
    "# yolov5l\n",
    "!python treain.py --img 416 --batch 16 --epochs 50 --data /.../.../data.yaml --cfg ./models/yolov5l.yaml --weights yolov5l.pt"
   ]
  },
  {
   "cell_type": "code",
   "execution_count": null,
   "metadata": {},
   "outputs": [],
   "source": [
    "# yolov5x\n",
    "!python treain.py --img 416 --batch 16 --epochs 50 --data /.../.../data.yaml --cfg ./models/yolov5x.yaml --weights yolov5x.pt"
   ]
  },
  {
   "cell_type": "code",
   "execution_count": null,
   "metadata": {},
   "outputs": [],
   "source": [
    "# 텐서보드로 학습 결과 보기\n",
    "%load_ext tenserboard\n",
    "%tensorboard --logdir /.../.../runs"
   ]
  },
  {
   "cell_type": "code",
   "execution_count": null,
   "metadata": {},
   "outputs": [],
   "source": [
    "from IPython.display import Image\n",
    "import os\n",
    "\n",
    "val_img_path = val_img_list[4]\n",
    "\n",
    "!python detect.py --weights /.../.../best.pt --img 416 --conf 0.5 --source \"{val_img_path}\"\n",
    "\n",
    "Image(os.path.join('/content/yolov5/inference/output', os.path.basename(val_img_path)))"
   ]
  },
  {
   "cell_type": "code",
   "execution_count": null,
   "metadata": {},
   "outputs": [],
   "source": []
  },
  {
   "cell_type": "code",
   "execution_count": null,
   "metadata": {},
   "outputs": [],
   "source": []
  }
 ],
 "metadata": {
  "kernelspec": {
   "display_name": "yolo",
   "language": "python",
   "name": "python3"
  },
  "language_info": {
   "codemirror_mode": {
    "name": "ipython",
    "version": 3
   },
   "file_extension": ".py",
   "mimetype": "text/x-python",
   "name": "python",
   "nbconvert_exporter": "python",
   "pygments_lexer": "ipython3",
   "version": "3.8.18"
  },
  "orig_nbformat": 4
 },
 "nbformat": 4,
 "nbformat_minor": 2
}
