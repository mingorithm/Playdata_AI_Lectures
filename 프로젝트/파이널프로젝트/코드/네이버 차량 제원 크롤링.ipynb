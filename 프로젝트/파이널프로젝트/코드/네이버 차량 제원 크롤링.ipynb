{
 "cells": [
  {
   "cell_type": "markdown",
   "id": "419f6320",
   "metadata": {},
   "source": [
    "## 네이버 차량 제원 크롤링"
   ]
  },
  {
   "cell_type": "code",
   "execution_count": 1,
   "id": "59f8bf36",
   "metadata": {},
   "outputs": [
    {
     "name": "stdout",
     "output_type": "stream",
     "text": [
      "검색할 키워드 입력 : d\n"
     ]
    },
    {
     "data": {
      "text/plain": [
       "'https://search.naver.com/search.naver?where=nexearch&sm=top_hty&fbm=0&ie=utf8&query=d 정보'"
      ]
     },
     "execution_count": 1,
     "metadata": {},
     "output_type": "execute_result"
    }
   ],
   "source": [
    "import requests as req\n",
    "import json\n",
    "import pandas as pd\n",
    "from bs4 import BeautifulSoup\n",
    "import os\n",
    "\n",
    "url = \"https://search.naver.com/search.naver?where=nexearch&sm=top_hty&fbm=0&ie=utf8&query=\"\n",
    "\n",
    "def search_car(url):\n",
    "    keyword = input(\"검색할 키워드 입력 : \")\n",
    "    search_url = url + keyword + \" 정보\"\n",
    "    \n",
    "    response = req.get(search_url)\n",
    "    soup = BeautifulSoup(response.text,\"html.parser\")\n",
    "    \n",
    "    return search_url\n",
    "    \n",
    "search_car(url)\n"
   ]
  },
  {
   "cell_type": "code",
   "execution_count": 16,
   "id": "812fb3ea",
   "metadata": {},
   "outputs": [],
   "source": [
    "import requests as req\n",
    "from bs4 import BeautifulSoup\n",
    "\n",
    "url = \"https://search.naver.com/search.naver?where=nexearch&sm=top_hty&fbm=0&ie=utf8&query=\"\n",
    "\n",
    "\n",
    "\n",
    "def search_car(url, keyword):\n",
    "  \n",
    "    search_url = url + keyword + \" 정보\"\n",
    "   \n",
    "    response = req.get(search_url)\n",
    "    soup = BeautifulSoup(response.text,\"html.parser\")\n",
    "    info = soup.find(class_=\"info\").find_all(\"dt\")\n",
    "    info2 = soup.find(class_=\"info\").find_all(\"dd\")\n",
    "    \n",
    "    for infos in info2:\n",
    "        span =infos.find(\"span\")\n",
    "        if span:\n",
    "            span.decompose()\n",
    "            \n",
    "    \n",
    "    return search_url, info, info2, keyword\n",
    "    \n"
   ]
  },
  {
   "cell_type": "code",
   "execution_count": 17,
   "id": "9dbb1075",
   "metadata": {},
   "outputs": [],
   "source": [
    "import pandas as pd\n",
    "\n",
    "def save_to_csv(titles, data):\n",
    "    \n",
    "    paired_data = {title.text.strip(): data.text.strip() for title, data in zip(titles, data)}\n",
    "    paired_data['차종'] = keyword\n",
    "    \n",
    "    df = pd.DataFrame([paired_data])\n",
    "    cols = list(df.columns)\n",
    "    cols.insert(0,cols.pop(cols.index(\"차종\")))\n",
    "\n",
    "    df.to_csv('car_info.csv', index=False,encoding=\"utf-8-sig\")\n",
    "# urls, info,info2,keyword= search_car(url,\"코란도\")\n",
    "\n",
    "# save_to_csv(info,info2)"
   ]
  },
  {
   "cell_type": "code",
   "execution_count": 18,
   "id": "a6cad1de",
   "metadata": {},
   "outputs": [],
   "source": [
    "import pandas as pd\n",
    "def save_to_csv(df, filename='car_info.csv'):\n",
    "    df.to_csv(filename, mode='a', index=False, encoding=\"utf-8-sig\")\n",
    "\n",
    "\n",
    "df_all = pd.DataFrame()\n",
    "\n",
    "class_names={\n",
    "    \"0\":\"티볼리\",\n",
    "    \"1\":\"팰리세이드\",\n",
    "    \"2\":\"포터2\",\n",
    "    \"3\":\"i30\",\n",
    "    \"4\":\"G4렉스턴\",\n",
    "    \"5\":\"K3\",\n",
    "    \"6\":\"K5\",\n",
    "    \"7\":\"K7\",\n",
    "    \"8\":\"K9\",\n",
    "    \"9\":\"QM3\",\n",
    "    \"10\":\"QM6\",\n",
    "    \"11\":\"SM3\",\n",
    "    \"12\":\"SM5\",\n",
    "    \"13\":\"SM6\",\n",
    "    \"14\":\"SM7\",\n",
    "    \"15\":\"XM3\",\n",
    "    \"16\":\"그랜저\",\n",
    "    \"17\":\"니로\",\n",
    "    \"18\":\"다마스\",\n",
    "    \"19\":\"레이\",\n",
    "    \"20\":\"렉스턴스포츠\",\n",
    "    \"21\":\"맥스크루즈\",\n",
    "    \"22\":\"모닝\",\n",
    "    \"23\":\"모하비\",\n",
    "    \"24\":\"베뉴\",\n",
    "    \"25\":\"벨로스터\",\n",
    "    \"26\":\"봉고3\",\n",
    "    \"27\":\"셀토스\",\n",
    "    \"28\":\"스타렉스\",\n",
    "    \"29\":\"스토닉\",\n",
    "    \"30\":\"스팅어\",\n",
    "    \"31\":\"스포티지\",\n",
    "    \"32\":\"싼타페\",\n",
    "    \"33\":\"쏘나타\",\n",
    "    \"34\":\"쏘렌토\",\n",
    "    \"35\":\"쏘울\",\n",
    "    \"36\":\"아반떼\",\n",
    "    \"37\":\"아이오닉\",\n",
    "    \"38\":\"엑센트\",\n",
    "    \"39\":\"카니발\",\n",
    "    \"40\":\"코나\",\n",
    "    \"41\":\"코란도\",\n",
    "    \"42\":\"코란도투리스모\",\n",
    "    \"43\":\"코란도C\",\n",
    "    \"44\":\"투싼\"\n",
    "\n",
    "}\n",
    "\n",
    "class_name_list = list(class_names.values())\n",
    "\n",
    "for keyword in class_name_list:\n",
    "    urls, info,info2,_= search_car(url,keyword)\n",
    "    \n",
    "    \n",
    "    paired_data = {title.text.strip(): data.text.strip() for title, data in zip(info, info2)}\n",
    "    \n",
    "    paired_data['차종'] = keyword\n",
    "    \n",
    "    \n",
    "    df_temp = pd.DataFrame([paired_data])\n",
    "    \n",
    "    \n",
    "    cols = list(df_temp.columns)\n",
    "    \n",
    "    if '차종' in cols:\n",
    "        cols.insert(0,cols.pop(cols.index(\"차종\")))\n",
    "        df_temp=df_temp.reindex(columns=cols)\n",
    "        \n",
    "    df_all = pd.concat([df_all, df_temp], ignore_index=True)\n",
    "\n",
    "\n",
    "save_to_csv(df_all)"
   ]
  },
  {
   "cell_type": "code",
   "execution_count": null,
   "id": "629e1752",
   "metadata": {},
   "outputs": [],
   "source": []
  }
 ],
 "metadata": {
  "kernelspec": {
   "display_name": "Python 3 (ipykernel)",
   "language": "python",
   "name": "python3"
  },
  "language_info": {
   "codemirror_mode": {
    "name": "ipython",
    "version": 3
   },
   "file_extension": ".py",
   "mimetype": "text/x-python",
   "name": "python",
   "nbconvert_exporter": "python",
   "pygments_lexer": "ipython3",
   "version": "3.10.9"
  }
 },
 "nbformat": 4,
 "nbformat_minor": 5
}
